{
 "cells": [
  {
   "cell_type": "markdown",
   "id": "7c0cb748-c93f-4cfe-89cc-09dca7ec6fce",
   "metadata": {},
   "source": [
    "## Data Science Tools and Ecosystem"
   ]
  },
  {
   "cell_type": "markdown",
   "id": "c7adfe55-c59e-4f3e-972e-95ce29e23f95",
   "metadata": {},
   "source": [
    "In this notebook, Data Science Tools and Ecosystem are summarized."
   ]
  },
  {
   "cell_type": "markdown",
   "id": "b9778181-17ca-42b8-89cc-e65cf8bf8829",
   "metadata": {},
   "source": [
    "***Objectives:***\n",
    "- List popular languages for Data Science\n",
    "- List commonly used libraries for Data Science\n",
    "- List Data Science tools\n",
    "- Examples of evaluating arithmetic expressions in Python\n"
   ]
  },
  {
   "cell_type": "markdown",
   "id": "63e2255f-6fe1-4c05-beb5-7895f15b6162",
   "metadata": {},
   "source": [
    "Some of the popular languages that Data Scientists use are:\n",
    "1. Python\n",
    "2. R\n",
    "3. Javascript"
   ]
  },
  {
   "cell_type": "markdown",
   "id": "304bb9c4-7b82-4914-9a29-e742ea18ec7e",
   "metadata": {},
   "source": [
    "Some of the commonly used libraries used by Data Scientists include:\n",
    "1. plotly\n",
    "2. Pandas\n",
    "3. NumPy"
   ]
  },
  {
   "cell_type": "markdown",
   "id": "37fed415-9cd5-4ce9-96ab-993376e60ef8",
   "metadata": {},
   "source": [
    "# Data Science Tools\n",
    "| Open source tools | \n",
    "| -------------|\n",
    "| Apache Spark |\n",
    "| Jupyter Notebook | \n",
    "| Scikit-learn | "
   ]
  },
  {
   "cell_type": "markdown",
   "id": "13b7bf59-85b8-43b8-8f6e-459694f0df49",
   "metadata": {},
   "source": [
    "### Below are a few examples of evaluating arithmetic expressions in Python"
   ]
  },
  {
   "cell_type": "code",
   "execution_count": 12,
   "id": "66187b18-9c5a-457e-b898-a4fc6fbce4a4",
   "metadata": {},
   "outputs": [
    {
     "data": {
      "text/plain": [
       "17"
      ]
     },
     "execution_count": 12,
     "metadata": {},
     "output_type": "execute_result"
    }
   ],
   "source": [
    "(3*4)+5\n",
    "# This a simple arithmetic expression to mutiply then add integers"
   ]
  },
  {
   "cell_type": "code",
   "execution_count": 16,
   "id": "2b5f33db-1299-48f9-b376-17e21704b332",
   "metadata": {},
   "outputs": [
    {
     "data": {
      "text/plain": [
       "3.3333333333333335"
      ]
     },
     "execution_count": 16,
     "metadata": {},
     "output_type": "execute_result"
    }
   ],
   "source": [
    "# This will convert 200 minutes to hours by diving by 60\n",
    "200/60"
   ]
  },
  {
   "cell_type": "markdown",
   "id": "ce6f5415-ffda-46dd-97f2-21bc9804bdcb",
   "metadata": {},
   "source": [
    "## Author\n",
    "Sukrit Vongsri"
   ]
  },
  {
   "cell_type": "code",
   "execution_count": null,
   "id": "5c5d1d4a-07ee-4797-be75-6009335e29c0",
   "metadata": {},
   "outputs": [],
   "source": []
  }
 ],
 "metadata": {
  "kernelspec": {
   "display_name": "Python 3 (ipykernel)",
   "language": "python",
   "name": "python3"
  },
  "language_info": {
   "codemirror_mode": {
    "name": "ipython",
    "version": 3
   },
   "file_extension": ".py",
   "mimetype": "text/x-python",
   "name": "python",
   "nbconvert_exporter": "python",
   "pygments_lexer": "ipython3",
   "version": "3.11.7"
  }
 },
 "nbformat": 4,
 "nbformat_minor": 5
}
